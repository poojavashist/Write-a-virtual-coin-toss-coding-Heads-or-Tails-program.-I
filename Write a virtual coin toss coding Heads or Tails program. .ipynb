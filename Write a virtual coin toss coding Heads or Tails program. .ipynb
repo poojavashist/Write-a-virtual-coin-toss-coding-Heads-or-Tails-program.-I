{
 "cells": [
  {
   "cell_type": "code",
   "execution_count": 17,
   "metadata": {},
   "outputs": [
    {
     "name": "stdout",
     "output_type": "stream",
     "text": [
      "Tail\n"
     ]
    }
   ],
   "source": [
    "## Heads or Tails\n",
    "\n",
    "import random\n",
    "\n",
    "randomside = random.randint(0,1)\n",
    "if randomside == 1:\n",
    "    print(\"Head\")\n",
    "    print('''\n",
    "    \n",
    "88                                         88  \n",
    "88                                         88  \n",
    "88,dPPYba,   ,adPPYba, ,adPPYYba,  ,adPPYb,88  \n",
    "88P'    \"8a a8P_____88 \"\"     `Y8 a8\"    `Y88  \n",
    "88       88 8PP\"\"\"\"\"\"\" ,adPPPPP88 8b       88  \n",
    "88       88 \"8b,   ,aa 88,    ,88 \"8a,   ,d88  \n",
    "88       88  `\"Ybbd8\"' `\"8bbdP\"Y8  `\"8bbdP\"Y8  \n",
    "                                              ''')\n",
    "else:\n",
    "    print(\"Tail\")\n",
    "    \n",
    "    "
   ]
  },
  {
   "cell_type": "code",
   "execution_count": null,
   "metadata": {},
   "outputs": [],
   "source": []
  }
 ],
 "metadata": {
  "kernelspec": {
   "display_name": "Python 3",
   "language": "python",
   "name": "python3"
  },
  "language_info": {
   "codemirror_mode": {
    "name": "ipython",
    "version": 3
   },
   "file_extension": ".py",
   "mimetype": "text/x-python",
   "name": "python",
   "nbconvert_exporter": "python",
   "pygments_lexer": "ipython3",
   "version": "3.8.3"
  }
 },
 "nbformat": 4,
 "nbformat_minor": 4
}
